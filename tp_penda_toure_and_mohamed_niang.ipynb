{
 "cells": [
  {
   "cell_type": "markdown",
   "metadata": {},
   "source": [
    "<img src=\"images/optimization.jpg\" width = \"250px\" />\n",
    "\n",
    "   # <center> Méthodes d'optimisation pour la régression logistique pénalisée lasso </center> \n",
    "------------------------------------\n",
    "# Authors :\n",
    "- Penda TOURE\n",
    "- Mohamed NIANG\n",
    "-----------------------------------"
   ]
  },
  {
   "cell_type": "code",
   "execution_count": 1,
   "metadata": {},
   "outputs": [
    {
     "data": {
      "text/html": [
       "<div id=\"my_id_menu_nb\">run previous cell, wait for 2 seconds</div>\n",
       "<script>\n",
       "function repeat_indent_string(n){\n",
       "    var a = \"\" ;\n",
       "    for ( ; n > 0 ; --n)\n",
       "        a += \"    \";\n",
       "    return a;\n",
       "}\n",
       "// look up into all sections and builds an automated menu //\n",
       "var update_menu_string = function(begin, lfirst, llast, sformat, send, keep_item, begin_format, end_format) {\n",
       "    var anchors = document.getElementsByClassName(\"section\");\n",
       "    if (anchors.length == 0) {\n",
       "        anchors = document.getElementsByClassName(\"text_cell_render rendered_html\");\n",
       "    }\n",
       "    var i,t;\n",
       "    var text_menu = begin;\n",
       "    var text_memo = \"<pre>\\nlength:\" + anchors.length + \"\\n\";\n",
       "    var ind = \"\";\n",
       "    var memo_level = 1;\n",
       "    var href;\n",
       "    var tags = [];\n",
       "    var main_item = 0;\n",
       "    var format_open = 0;\n",
       "    for (i = 0; i <= llast; i++)\n",
       "        tags.push(\"h\" + i);\n",
       "\n",
       "    for (i = 0; i < anchors.length; i++) {\n",
       "        text_memo += \"**\" + anchors[i].id + \"--\\n\";\n",
       "\n",
       "        var child = null;\n",
       "        for(t = 0; t < tags.length; t++) {\n",
       "            var r = anchors[i].getElementsByTagName(tags[t]);\n",
       "            if (r.length > 0) {\n",
       "child = r[0];\n",
       "break;\n",
       "            }\n",
       "        }\n",
       "        if (child == null) {\n",
       "            text_memo += \"null\\n\";\n",
       "            continue;\n",
       "        }\n",
       "        if (anchors[i].hasAttribute(\"id\")) {\n",
       "            // when converted in RST\n",
       "            href = anchors[i].id;\n",
       "            text_memo += \"#1-\" + href;\n",
       "            // passer à child suivant (le chercher)\n",
       "        }\n",
       "        else if (child.hasAttribute(\"id\")) {\n",
       "            // in a notebook\n",
       "            href = child.id;\n",
       "            text_memo += \"#2-\" + href;\n",
       "        }\n",
       "        else {\n",
       "            text_memo += \"#3-\" + \"*\" + \"\\n\";\n",
       "            continue;\n",
       "        }\n",
       "        var title = child.textContent;\n",
       "        var level = parseInt(child.tagName.substring(1,2));\n",
       "\n",
       "        text_memo += \"--\" + level + \"?\" + lfirst + \"--\" + title + \"\\n\";\n",
       "\n",
       "        if ((level < lfirst) || (level > llast)) {\n",
       "            continue ;\n",
       "        }\n",
       "        if (title.endsWith('¶')) {\n",
       "            title = title.substring(0,title.length-1).replace(\"<\", \"&lt;\")\n",
       "         .replace(\">\", \"&gt;\").replace(\"&\", \"&amp;\");\n",
       "        }\n",
       "        if (title.length == 0) {\n",
       "            continue;\n",
       "        }\n",
       "\n",
       "        while (level < memo_level) {\n",
       "            text_menu += end_format + \"</ul>\\n\";\n",
       "            format_open -= 1;\n",
       "            memo_level -= 1;\n",
       "        }\n",
       "        if (level == lfirst) {\n",
       "            main_item += 1;\n",
       "        }\n",
       "        if (keep_item != -1 && main_item != keep_item + 1) {\n",
       "            // alert(main_item + \" - \" + level + \" - \" + keep_item);\n",
       "            continue;\n",
       "        }\n",
       "        while (level > memo_level) {\n",
       "            text_menu += \"<ul>\\n\";\n",
       "            memo_level += 1;\n",
       "        }\n",
       "        text_menu += repeat_indent_string(level-2);\n",
       "        text_menu += begin_format + sformat.replace(\"__HREF__\", href).replace(\"__TITLE__\", title);\n",
       "        format_open += 1;\n",
       "    }\n",
       "    while (1 < memo_level) {\n",
       "        text_menu += end_format + \"</ul>\\n\";\n",
       "        memo_level -= 1;\n",
       "        format_open -= 1;\n",
       "    }\n",
       "    text_menu += send;\n",
       "    //text_menu += \"\\n\" + text_memo;\n",
       "\n",
       "    while (format_open > 0) {\n",
       "        text_menu += end_format;\n",
       "        format_open -= 1;\n",
       "    }\n",
       "    return text_menu;\n",
       "};\n",
       "var update_menu = function() {\n",
       "    var sbegin = \"\";\n",
       "    var sformat = '<a href=\"#__HREF__\">__TITLE__</a>';\n",
       "    var send = \"\";\n",
       "    var begin_format = '<li>';\n",
       "    var end_format = '</li>';\n",
       "    var keep_item = -1;\n",
       "    var text_menu = update_menu_string(sbegin, 2, 4, sformat, send, keep_item,\n",
       "       begin_format, end_format);\n",
       "    var menu = document.getElementById(\"my_id_menu_nb\");\n",
       "    menu.innerHTML=text_menu;\n",
       "};\n",
       "window.setTimeout(update_menu,2000);\n",
       "            </script>"
      ],
      "text/plain": [
       "<IPython.core.display.HTML object>"
      ]
     },
     "execution_count": 1,
     "metadata": {},
     "output_type": "execute_result"
    }
   ],
   "source": [
    "### Ignore warning\n",
    "import warnings\n",
    "warnings.filterwarnings(\"ignore\")\n",
    "\n",
    "### Print table of content\n",
    "from jyquickhelper import add_notebook_menu\n",
    "add_notebook_menu()"
   ]
  },
  {
   "cell_type": "markdown",
   "metadata": {},
   "source": [
    "## Introduction"
   ]
  },
  {
   "cell_type": "markdown",
   "metadata": {},
   "source": [
    "On veut comparer les algorithmes ISTA, FISTA, ADMM et SGD sur la régression logistique pénalisée lasso."
   ]
  },
  {
   "cell_type": "markdown",
   "metadata": {},
   "source": [
    "On considère que l'on observe les couples $(y_i,X_i)$ avec $y_i \\in \\{ -1, 1\\}$ et $X_i \\in \\mathbb R^p$ dont la vraisemblance au point $\\beta \\in \\mathbb R^p$ est donnée par :\n",
    "$$\n",
    "\\prod_{i=1}^n \\frac{1}{1+\\exp(-y_i X_i \\beta)}\n",
    "$$"
   ]
  },
  {
   "cell_type": "markdown",
   "metadata": {},
   "source": [
    "On veut donc résoudre :\n",
    "$$\n",
    "\\arg\\min_\\beta \\frac{1}{n}\\sum_{i=1}^n \\log\\big(1 + \\exp(-y_i X_i \\beta) \\big)+  \\lambda\\| \\beta \\|_{\\ell_1}\n",
    "$$"
   ]
  },
  {
   "cell_type": "markdown",
   "metadata": {},
   "source": [
    "##  Nom du fichier de notre projet"
   ]
  },
  {
   "cell_type": "code",
   "execution_count": 2,
   "metadata": {},
   "outputs": [
    {
     "name": "stdout",
     "output_type": "stream",
     "text": [
      "tp_penda_toure_and_mohamed_niang.ipynb\n"
     ]
    }
   ],
   "source": [
    "# Change here using YOUR first and last names\n",
    "fn1 = \"Penda\"\n",
    "ln1 = \"Toure\"\n",
    "fn2 = \"Mohamed\"\n",
    "ln2 = \"Niang\"\n",
    "\n",
    "filename = \"_\".join(map(lambda s: s.strip().lower(), \n",
    "                        [\"tp\", fn1, ln1, \"and\", fn2, ln2])) + \".ipynb\"\n",
    "print(filename)"
   ]
  },
  {
   "cell_type": "markdown",
   "metadata": {},
   "source": [
    "## Importation des packages"
   ]
  },
  {
   "cell_type": "code",
   "execution_count": 3,
   "metadata": {},
   "outputs": [],
   "source": [
    "import time\n",
    "import numpy as np\n",
    "from numpy.linalg import norm\n",
    "np.set_printoptions(precision=2)  # to have simpler print outputs with numpy\n",
    "import matplotlib.pylab as plt\n",
    "%matplotlib inline\n",
    "\n",
    "from numpy.random import multivariate_normal\n",
    "from scipy.linalg.special_matrices import toeplitz\n",
    "from numpy.random import randn\n",
    "\n",
    "from numpy.random import binomial\n",
    "from scipy.optimize import check_grad\n",
    "from numpy.linalg import norm\n",
    "from scipy import optimize\n",
    "from math import sqrt, log"
   ]
  },
  {
   "cell_type": "markdown",
   "metadata": {},
   "source": [
    "## Simulation dans un modèle logistique"
   ]
  },
  {
   "cell_type": "markdown",
   "metadata": {},
   "source": [
    "### Choix des valeurs de $n$ et $p$"
   ]
  },
  {
   "cell_type": "code",
   "execution_count": 4,
   "metadata": {},
   "outputs": [],
   "source": [
    "n_features = 50\n",
    "n_samples = 2000"
   ]
  },
  {
   "cell_type": "markdown",
   "metadata": {},
   "source": [
    "### Choix des valeurs des parametres $\\beta^\\star$"
   ]
  },
  {
   "cell_type": "markdown",
   "metadata": {},
   "source": [
    "On pose $\\beta^\\star_j = (-1)^{j-1} \\exp(-(j-1)/10)$."
   ]
  },
  {
   "cell_type": "code",
   "execution_count": 5,
   "metadata": {},
   "outputs": [
    {
     "data": {
      "text/plain": [
       "Text(0.5, 1.0, 'Parameters')"
      ]
     },
     "execution_count": 5,
     "metadata": {},
     "output_type": "execute_result"
    },
    {
     "data": {
      "image/png": "[encoded data removed]",
      "text/plain": [
       "<Figure size 432x288 with 1 Axes>"
      ]
     },
     "metadata": {
      "needs_background": "light"
     },
     "output_type": "display_data"
    }
   ],
   "source": [
    "idx = np.arange(n_features)\n",
    "params = (-1) ** idx  * np.exp(-idx / 10.)\n",
    "params[20:] = 0.\n",
    "plt.stem(params)\n",
    "plt.title(\"Parameters\")"
   ]
  },
  {
   "cell_type": "markdown",
   "metadata": {},
   "source": [
    "### Simulation de la matrice X (features)"
   ]
  },
  {
   "cell_type": "code",
   "execution_count": 6,
   "metadata": {},
   "outputs": [],
   "source": [
    "# Correlation\n",
    "rho = 0.1\n",
    "\n",
    "# Matrice de covariance Toeplitz\n",
    "cov = toeplitz(rho ** np.arange(0, n_features))\n",
    "\n",
    "# Simulation d'un vecteur gaussien de taille n avec cette matrice de covariance\n",
    "features = multivariate_normal(np.zeros(n_features), cov, size=n_samples)"
   ]
  },
  {
   "cell_type": "markdown",
   "metadata": {},
   "source": [
    "### Simulations des $y_i$"
   ]
  },
  {
   "cell_type": "markdown",
   "metadata": {},
   "source": [
    "Coder une fonction **sigmoïd**. Attention aux overflows possibles !"
   ]
  },
  {
   "cell_type": "code",
   "execution_count": 7,
   "metadata": {},
   "outputs": [],
   "source": [
    "def sigmoid(t):\n",
    "    idx = t > 0\n",
    "    out = np.empty(t.size)\n",
    "    out[idx] = 1 / (1 + np.exp(-t[idx]))\n",
    "    exp_t = np.exp(t[~idx])\n",
    "    out[~idx] = exp_t / (1 + exp_t)\n",
    "    return out"
   ]
  },
  {
   "cell_type": "markdown",
   "metadata": {},
   "source": [
    "Coder une fonction **simu_log_reg** qui pour $n$, $\\beta^\\star$ et $\\rho$ renvoie une matrice de features et un vecteur de labels."
   ]
  },
  {
   "cell_type": "code",
   "execution_count": 8,
   "metadata": {},
   "outputs": [],
   "source": [
    "def simu_logreg(n_samples,params=params,rho=0.1):\n",
    "    \"\"\" simulation in a logistic regression model \n",
    "    \n",
    "    Parameters\n",
    "    ----------\n",
    "    coefs : `numpy.array`, shape=(n_features,)\n",
    "        Coefficients of the model\n",
    "    n_samples : `int`, \n",
    "        Number of samples to simulate\n",
    "    rho : `float`, default=0.1\n",
    "        Correlation of the features\n",
    "    Returns\n",
    "    -------\n",
    "    X : `numpy.ndarray`, shape=(n_samples, n_features)\n",
    "    Simulated features matrix. It samples of a centered Gaussian\n",
    "    vector with covariance given by the Toeplitz matrix\n",
    "    y : `numpy.array`, shape=(n_samples,)\n",
    "                 Simulated labels\n",
    "    \"\"\"\n",
    "    n_features = params.size\n",
    "    \n",
    "    cov = toeplitz(rho ** np.arange(0, n_features))\n",
    "    \n",
    "    features = multivariate_normal(np.zeros(n_features), cov, size=n_samples)\n",
    "    \n",
    "    pis = sigmoid(features.dot(params))\n",
    "    \n",
    "    labels = 2 * ( binomial(1,pis, n_samples) - 1)\n",
    "    \n",
    "    return((features,labels))"
   ]
  },
  {
   "cell_type": "code",
   "execution_count": 9,
   "metadata": {},
   "outputs": [],
   "source": [
    "X,y = simu_logreg(2000)"
   ]
  },
  {
   "cell_type": "code",
   "execution_count": 10,
   "metadata": {},
   "outputs": [
    {
     "name": "stdout",
     "output_type": "stream",
     "text": [
      "(2000,)\n",
      "(2000, 50)\n"
     ]
    }
   ],
   "source": [
    "print(y.shape)\n",
    "print(X.shape)"
   ]
  },
  {
   "cell_type": "markdown",
   "metadata": {},
   "source": [
    "## Objectif, gradient sans lasso (quand $\\lambda=0$)"
   ]
  },
  {
   "cell_type": "markdown",
   "metadata": {},
   "source": [
    "- Coder une fonction qui calcule la perte logistique et son gradient pour une matrice de features $X$, un vecteur de labels $y$ et une valeur courante $w$ du paramètre.\n",
    "- Vérifier qu'il n'y pas d'erreur en utilisant la fonction **check_grad** de scipy.optimize.\n",
    "- Coder une fonction qui calcule l'objectif."
   ]
  },
  {
   "cell_type": "code",
   "execution_count": 11,
   "metadata": {},
   "outputs": [],
   "source": [
    "def loss_logreg(w,X,y):\n",
    "    \"\"\" calcul de la perte logistique\n",
    "     Parameters\n",
    "    ----------\n",
    "    X : `numpy.array`, shape=(n_samples,n_features)\n",
    "        features\n",
    "    y : `numpy.array`, shape=(n_samples,)\n",
    "        labels\n",
    "    w : `numpy.array`, shape=(n_features,)\n",
    "        value of the parameter\n",
    "    \"\"\"\n",
    "    u = y * X.dot(w)\n",
    "    return -np.mean(np.log(sigmoid(u)))"
   ]
  },
  {
   "cell_type": "code",
   "execution_count": 12,
   "metadata": {},
   "outputs": [
    {
     "data": {
      "text/plain": [
       "0.6931471805599454"
      ]
     },
     "execution_count": 12,
     "metadata": {},
     "output_type": "execute_result"
    }
   ],
   "source": [
    "loss_logreg(np.zeros(n_features),X,y)"
   ]
  },
  {
   "cell_type": "code",
   "execution_count": 13,
   "metadata": {},
   "outputs": [],
   "source": [
    "def grad_logreg(w,X,y):\n",
    "    \"\"\" calcul du gradient de la perte logistique\n",
    "         Parameters\n",
    "    ----------\n",
    "    X : `numpy.array`, shape=(n_samples,n_features)\n",
    "        features\n",
    "    y : `numpy.array`, shape=(n_samples,)\n",
    "        labels\n",
    "    w : `numpy.array`, shape=(n_features,)\n",
    "        value of the parameter\n",
    "    \"\"\"\n",
    "    n_samples, _ = X.shape\n",
    "    u = y * X.dot(w)\n",
    "    return X.T.dot(y * (sigmoid(u) - 1)) / n_samples"
   ]
  },
  {
   "cell_type": "code",
   "execution_count": 14,
   "metadata": {},
   "outputs": [
    {
     "data": {
      "text/plain": [
       "array([-1.49e-01,  1.04e-01, -1.09e-01,  8.85e-02, -8.51e-02,  8.57e-02,\n",
       "       -6.09e-02,  6.46e-02, -8.23e-02,  3.56e-02, -4.00e-02,  2.74e-02,\n",
       "       -3.38e-02,  6.03e-02, -5.52e-02,  9.14e-03, -1.15e-02, -1.91e-02,\n",
       "       -5.67e-03,  2.83e-02, -1.87e-02, -1.09e-02,  1.17e-02,  2.65e-03,\n",
       "        1.41e-02,  3.59e-03,  8.48e-03,  1.21e-04, -4.53e-03, -1.99e-03,\n",
       "       -2.45e-02, -3.82e-02, -6.06e-03, -3.53e-03,  1.30e-02, -2.37e-02,\n",
       "        1.14e-02,  2.26e-02, -3.35e-02,  6.27e-03, -2.23e-02, -1.06e-02,\n",
       "       -2.86e-02,  1.75e-02,  6.61e-03, -1.09e-02,  1.46e-02, -6.34e-04,\n",
       "       -1.27e-02, -1.03e-02])"
      ]
     },
     "execution_count": 14,
     "metadata": {},
     "output_type": "execute_result"
    }
   ],
   "source": [
    "grad_logreg(np.zeros(n_features),X,y)"
   ]
  },
  {
   "cell_type": "code",
   "execution_count": 15,
   "metadata": {},
   "outputs": [
    {
     "name": "stdout",
     "output_type": "stream",
     "text": [
      "logistic gradient check:  3.023676982379518e-08\n"
     ]
    }
   ],
   "source": [
    "print('logistic gradient check: ', check_grad(loss_logreg, grad_logreg, params,X,y))"
   ]
  },
  {
   "cell_type": "code",
   "execution_count": 16,
   "metadata": {},
   "outputs": [],
   "source": [
    "def objective(X,y,w):\n",
    "    return(loss_logreg(X,y,w))"
   ]
  },
  {
   "cell_type": "code",
   "execution_count": 17,
   "metadata": {},
   "outputs": [
    {
     "data": {
      "text/plain": [
       "0.6931471805599454"
      ]
     },
     "execution_count": 17,
     "metadata": {},
     "output_type": "execute_result"
    }
   ],
   "source": [
    "objective(np.zeros(n_features),X,y)"
   ]
  },
  {
   "cell_type": "markdown",
   "metadata": {},
   "source": [
    "On met le tout dans une classe comme indiqué ci-dessous"
   ]
  },
  {
   "cell_type": "code",
   "execution_count": 18,
   "metadata": {},
   "outputs": [],
   "source": [
    "class Logreg:\n",
    "    \"\"\"       \n",
    "    Parameters\n",
    "    ----------\n",
    "    X : `numpy.array`, shape=(n_samples,n_features)\n",
    "        features\n",
    "    y : `numpy.array`, shape=(n_samples,)\n",
    "        labels\n",
    "    lamb : `float`, \n",
    "        value of the regularization parameter\n",
    "    \"\"\"\n",
    "    def __init__(self,X,y,lamb):\n",
    "        self.X = X\n",
    "        self.y = y\n",
    "        self.lamb = lamb\n",
    "        self.n_samples, self.n_features = X.shape\n",
    "\n",
    "    def loss(self,w):\n",
    "        u = self.y * self.X.dot(w) \n",
    "        return -np.sum(np.log(sigmoid(u))) / self.n_samples\n",
    "\n",
    "    def grad(self,w):\n",
    "        u = self.y * self.X.dot(w) \n",
    "        return self.X.T.dot(self.y  * (sigmoid(u) - 1)) / self.n_samples\n",
    "\n",
    "    def objective(self,w):\n",
    "        return(self.loss(w))\n",
    "\n",
    "    def lip_const(self):\n",
    "        return np.sum(norm(X,axis=0,ord=2)) / (4*n_samples)\n",
    "    \n",
    "    def hessian(self,w):\n",
    "        u = self.y * self.X.dot(w)\n",
    "        var = sigmoid(u)*(1-sigmoid(u))\n",
    "        hessian = self.X.T.dot(np.diag(var)).dot(self.X)/self.n_samples\n",
    "        return hessian"
   ]
  },
  {
   "cell_type": "code",
   "execution_count": 19,
   "metadata": {},
   "outputs": [],
   "source": [
    "model_logreg = Logreg(X,y,0.1)"
   ]
  },
  {
   "cell_type": "code",
   "execution_count": 20,
   "metadata": {},
   "outputs": [
    {
     "data": {
      "text/plain": [
       "0.2801826768944102"
      ]
     },
     "execution_count": 20,
     "metadata": {},
     "output_type": "execute_result"
    }
   ],
   "source": [
    "model_logreg.lip_const()"
   ]
  },
  {
   "cell_type": "code",
   "execution_count": 21,
   "metadata": {},
   "outputs": [
    {
     "data": {
      "text/plain": [
       "array([-1.49e-01,  1.04e-01, -1.09e-01,  8.85e-02, -8.51e-02,  8.57e-02,\n",
       "       -6.09e-02,  6.46e-02, -8.23e-02,  3.56e-02, -4.00e-02,  2.74e-02,\n",
       "       -3.38e-02,  6.03e-02, -5.52e-02,  9.14e-03, -1.15e-02, -1.91e-02,\n",
       "       -5.67e-03,  2.83e-02, -1.87e-02, -1.09e-02,  1.17e-02,  2.65e-03,\n",
       "        1.41e-02,  3.59e-03,  8.48e-03,  1.21e-04, -4.53e-03, -1.99e-03,\n",
       "       -2.45e-02, -3.82e-02, -6.06e-03, -3.53e-03,  1.30e-02, -2.37e-02,\n",
       "        1.14e-02,  2.26e-02, -3.35e-02,  6.27e-03, -2.23e-02, -1.06e-02,\n",
       "       -2.86e-02,  1.75e-02,  6.61e-03, -1.09e-02,  1.46e-02, -6.34e-04,\n",
       "       -1.27e-02, -1.03e-02])"
      ]
     },
     "execution_count": 21,
     "metadata": {},
     "output_type": "execute_result"
    }
   ],
   "source": [
    "gradian = model_logreg.grad(np.zeros(n_features))\n",
    "gradian"
   ]
  },
  {
   "cell_type": "code",
   "execution_count": 22,
   "metadata": {},
   "outputs": [
    {
     "data": {
      "text/plain": [
       "(50,)"
      ]
     },
     "execution_count": 22,
     "metadata": {},
     "output_type": "execute_result"
    }
   ],
   "source": [
    "gradian.shape"
   ]
  },
  {
   "cell_type": "code",
   "execution_count": 23,
   "metadata": {},
   "outputs": [
    {
     "data": {
      "text/plain": [
       "array([[ 2.51e-01,  3.27e-02, -1.70e-03, ...,  2.97e-04, -5.37e-03,\n",
       "         1.28e-04],\n",
       "       [ 3.27e-02,  2.47e-01,  2.18e-02, ...,  3.80e-03,  8.54e-03,\n",
       "         1.48e-03],\n",
       "       [-1.70e-03,  2.18e-02,  2.42e-01, ...,  2.29e-03,  9.15e-04,\n",
       "        -9.51e-03],\n",
       "       ...,\n",
       "       [ 2.97e-04,  3.80e-03,  2.29e-03, ...,  2.49e-01,  2.09e-02,\n",
       "         1.89e-03],\n",
       "       [-5.37e-03,  8.54e-03,  9.15e-04, ...,  2.09e-02,  2.35e-01,\n",
       "         2.53e-02],\n",
       "       [ 1.28e-04,  1.48e-03, -9.51e-03, ...,  1.89e-03,  2.53e-02,\n",
       "         2.60e-01]])"
      ]
     },
     "execution_count": 23,
     "metadata": {},
     "output_type": "execute_result"
    }
   ],
   "source": [
    "hessian = model_logreg.hessian(np.zeros(n_features))\n",
    "hessian"
   ]
  },
  {
   "cell_type": "code",
   "execution_count": 24,
   "metadata": {},
   "outputs": [
    {
     "data": {
      "text/plain": [
       "(50, 50)"
      ]
     },
     "execution_count": 24,
     "metadata": {},
     "output_type": "execute_result"
    }
   ],
   "source": [
    "hessian.shape"
   ]
  },
  {
   "cell_type": "code",
   "execution_count": 25,
   "metadata": {},
   "outputs": [
    {
     "data": {
      "text/plain": [
       "0.2801826768944102"
      ]
     },
     "execution_count": 25,
     "metadata": {},
     "output_type": "execute_result"
    }
   ],
   "source": [
    "model_logreg.lip_const()"
   ]
  },
  {
   "cell_type": "code",
   "execution_count": 26,
   "metadata": {},
   "outputs": [
    {
     "name": "stdout",
     "output_type": "stream",
     "text": [
      "3.023676982379518e-08\n"
     ]
    }
   ],
   "source": [
    "print(check_grad(model_logreg.loss, model_logreg.grad, params))"
   ]
  },
  {
   "cell_type": "markdown",
   "metadata": {},
   "source": [
    "## Descente de gradient et algorithme de Newton"
   ]
  },
  {
   "cell_type": "markdown",
   "metadata": {},
   "source": [
    "- Coder l'algorithme de descente de gradient, il faut ajouter une méthode **lip_const** qui calcule une constante de Lipschitz pour le gradient.\n",
    "- Coder l'algorithme de Newtow, il faudra ajouter une méthode **hessian** à la classe logreg.\n",
    "- Représenter l'évolution des objectifs graphiquement."
   ]
  },
  {
   "cell_type": "markdown",
   "metadata": {},
   "source": [
    "### Descente de gradient"
   ]
  },
  {
   "cell_type": "code",
   "execution_count": 27,
   "metadata": {},
   "outputs": [],
   "source": [
    "def gd(model, w0, step = None, n_iter=50, verbose=True):\n",
    "    \"\"\"\n",
    "    Gradient descent\n",
    "    \"\"\"\n",
    "    w = w0\n",
    "    w_new = w0\n",
    "    n_samples, n_features = model.X.shape\n",
    "    # objective history\n",
    "    objectives = []\n",
    "    # Current objective\n",
    "    obj = model.loss(w) \n",
    "    objectives.append(obj) \n",
    "    if verbose:\n",
    "        print(\"Lauching GD solver...\")\n",
    "        print(' | '.join([name.center(8) for name in [\"it\", \"obj\"]])) \n",
    "    for k in range(n_iter + 1):\n",
    "        if step==None:\n",
    "            step = 1/model.lip_const()\n",
    "            \n",
    "        w_new[:] = w - step*model.grad(w)\n",
    "        w[:] = w_new\n",
    "        \n",
    "        obj = model.loss(w) \n",
    "        objectives.append(obj)\n",
    "        if k % 10 == 0 and verbose:\n",
    "            print(' | '.join([(\"%d\" % k).rjust(8), (\"%.2e\" % obj).rjust(8)]))\n",
    "    return w, np.array(objectives)"
   ]
  },
  {
   "cell_type": "code",
   "execution_count": 28,
   "metadata": {},
   "outputs": [],
   "source": [
    "w0 = np.zeros(n_features)"
   ]
  },
  {
   "cell_type": "code",
   "execution_count": 29,
   "metadata": {},
   "outputs": [
    {
     "name": "stdout",
     "output_type": "stream",
     "text": [
      "Lauching GD solver...\n",
      "   it    |   obj   \n",
      "       0 | 5.57e-01\n",
      "      10 | 5.42e-01\n",
      "      20 | 5.42e-01\n",
      "      30 | 5.42e-01\n",
      "      40 | 5.42e-01\n",
      "      50 | 5.42e-01\n",
      "0.0648200511932373\n"
     ]
    }
   ],
   "source": [
    "start = time.time()\n",
    "w_gd , obj_gd = gd(model_logreg,w0)\n",
    "end = time.time()\n",
    "print(end - start)"
   ]
  },
  {
   "cell_type": "markdown",
   "metadata": {},
   "source": [
    "### Algorithme de Newton"
   ]
  },
  {
   "cell_type": "code",
   "execution_count": 30,
   "metadata": {},
   "outputs": [],
   "source": [
    "def newton(model, w0, step = None, n_iter=50, verbose=True):\n",
    "    \"\"\"\n",
    "    Newton Raphson algorithm\n",
    "    \"\"\"\n",
    "    w = w0\n",
    "    w_new = w0\n",
    "    n_samples, n_features = model.X.shape\n",
    "    # objective history\n",
    "    objectives = []\n",
    "    # Current objective\n",
    "    obj = model.loss(w) \n",
    "    objectives.append(obj) \n",
    "    if verbose:\n",
    "        print(\"Lauching NR solver...\")\n",
    "        print(' | '.join([name.center(8) for name in [\"it\", \"obj\"]])) \n",
    "    for k in range(n_iter + 1):\n",
    "        if step==None:\n",
    "            step = 0.2\n",
    "            \n",
    "        hessian_inv = np.linalg.inv(model.hessian(w))\n",
    "        w_new[:] = w - step*hessian_inv.dot(model.grad(w))\n",
    "        w[:] = w_new\n",
    "        \n",
    "        obj = model.loss(w) \n",
    "        objectives.append(obj)\n",
    "        if k % 10 == 0 and verbose:\n",
    "            print(' | '.join([(\"%d\" % k).rjust(8), (\"%.2e\" % obj).rjust(8)]))\n",
    "    return w, np.array(objectives)"
   ]
  },
  {
   "cell_type": "code",
   "execution_count": 31,
   "metadata": {},
   "outputs": [
    {
     "name": "stdout",
     "output_type": "stream",
     "text": [
      "Lauching NR solver...\n",
      "   it    |   obj   \n",
      "       0 | 6.19e-01\n",
      "      10 | 5.44e-01\n",
      "      20 | 5.42e-01\n",
      "      30 | 5.42e-01\n",
      "      40 | 5.42e-01\n",
      "      50 | 5.42e-01\n",
      "0.8776249885559082\n"
     ]
    }
   ],
   "source": [
    "start = time.time()\n",
    "w0 = np.zeros(n_features)\n",
    "w_newton, obj_newton = newton(model_logreg,w0)\n",
    "end = time.time()\n",
    "print(end - start)"
   ]
  },
  {
   "cell_type": "code",
   "execution_count": 32,
   "metadata": {},
   "outputs": [
    {
     "data": {
      "image/png": "[encoded data removed]",
      "text/plain": [
       "<Figure size 432x360 with 1 Axes>"
      ]
     },
     "metadata": {
      "needs_background": "light"
     },
     "output_type": "display_data"
    }
   ],
   "source": [
    "plt.figure(figsize=(6, 5))\n",
    "plt.yscale(\"log\")\n",
    "plt.plot(obj_gd , label=\"Gradient descent\", lw=2) \n",
    "plt.plot(obj_newton , label=\"Newton algorithm\", lw=2) \n",
    "#plt.plot(obj_agd - obj_opt, label=\"AGD\", lw=2) \n",
    "#plt.plot(obj_cd - obj_opt, label=\"CD\", lw=2) \n",
    "#plt.plot(obj_cgd - obj_opt, label=\"CGD\", lw=2) plt.xlabel(r\"$k$\", fontsize=16)\n",
    "plt.ylabel(r\"$F(x_k)$\", fontsize=16) \n",
    "plt.legend(loc='lower left')\n",
    "plt.title('Objectif')\n",
    "n_iter = 50\n",
    "plt.xlim((0, n_iter))\n",
    "plt.tight_layout()\n",
    "#plt.savefig('gd_agd_cgd.pdf')"
   ]
  },
  {
   "cell_type": "markdown",
   "metadata": {},
   "source": [
    "## Proximal gradient descente (PGD)"
   ]
  },
  {
   "cell_type": "markdown",
   "metadata": {},
   "source": [
    "On retourne au cas de la régression logistique pénalisée lasso."
   ]
  },
  {
   "cell_type": "markdown",
   "metadata": {},
   "source": [
    "- Faire une nouvelle classe **logreg_l1** sur le modèle de la classe **logreg** en ajoutant un méthode  qui calcule l'opérateur proximal de la norme 1 et en changeant la méthode objectif."
   ]
  },
  {
   "cell_type": "code",
   "execution_count": 33,
   "metadata": {},
   "outputs": [],
   "source": [
    "class Logregl1:\n",
    "    \"\"\"       \n",
    "    Parameters\n",
    "    ----------\n",
    "    X : `numpy.array`, shape=(n_samples,n_features)\n",
    "        features\n",
    "    y : `numpy.array`, shape=(n_samples,)\n",
    "        labels\n",
    "    lamb : `float`, \n",
    "        value of the regularization parameter\n",
    "    \"\"\"\n",
    "    def __init__(self,X,y,lamb):\n",
    "        self.X = X\n",
    "        self.y = y\n",
    "        self.lamb = lamb\n",
    "        self.n_samples, self.n_features = X.shape\n",
    "\n",
    "    def loss(self,w):\n",
    "        u = self.y * self.X.dot(w) \n",
    "        return -np.sum(np.log(sigmoid(u))) / self.n_samples\n",
    "\n",
    "    def grad(self,w):\n",
    "        u = self.y * self.X.dot(w) \n",
    "        return self.X.T.dot(self.y  * (sigmoid(u) - 1)) / self.n_samples\n",
    "    \n",
    "    def grad_i(self, i, w):\n",
    "        x_i = X[i]\n",
    "        y_i = y[i]\n",
    "        lamb = 1. / (self.n_samples ** (0.5))\n",
    "        return - x_i * y_i / (1. + np.exp(y_i * np.dot(x_i, w))) + lamb * w\n",
    "        \n",
    "    def lip_const(self):\n",
    "        return np.sum(norm(X,axis=0,ord=2)) / (4*n_samples)\n",
    "   \n",
    "    def smoothness_lip_const(self,X):  \n",
    "        return (np.linalg.norm(1/n_samples*X.T@X,ord=2))/4\n",
    "    \n",
    "    def pen(self,w,lamb):\n",
    "        w = lamb*np.linalg.norm(w,ord = 1)\n",
    "        return w\n",
    "    \n",
    "    def prox(self,w,lamb):\n",
    "        z = np.sign(w)*np.maximum(np.abs(w)-lamb,0.)\n",
    "        return z\n",
    "  \n",
    "    def objectivel1(self,w):\n",
    "        return(self.loss(w) + self.pen(w,lamb))"
   ]
  },
  {
   "cell_type": "code",
   "execution_count": 34,
   "metadata": {},
   "outputs": [],
   "source": [
    "X,y = simu_logreg(2000)"
   ]
  },
  {
   "cell_type": "code",
   "execution_count": 35,
   "metadata": {},
   "outputs": [
    {
     "name": "stdout",
     "output_type": "stream",
     "text": [
      "(2000,)\n",
      "(2000, 50)\n"
     ]
    }
   ],
   "source": [
    "print(y.shape)\n",
    "print(X.shape)"
   ]
  },
  {
   "cell_type": "code",
   "execution_count": 36,
   "metadata": {},
   "outputs": [],
   "source": [
    "lamb=0\n",
    "model_logregl1 = Logregl1(X,y,lamb)"
   ]
  },
  {
   "cell_type": "code",
   "execution_count": 37,
   "metadata": {},
   "outputs": [
    {
     "name": "stdout",
     "output_type": "stream",
     "text": [
      "5.792110004208822e-08\n"
     ]
    }
   ],
   "source": [
    "print(check_grad(model_logregl1.objectivel1, model_logregl1.grad, params))"
   ]
  },
  {
   "cell_type": "markdown",
   "metadata": {},
   "source": [
    "Coder une fonction **pgd** qui code l'algorithme descente de gradient proximal (sur le modèle de la fonction **gd**)."
   ]
  },
  {
   "cell_type": "code",
   "execution_count": 38,
   "metadata": {},
   "outputs": [],
   "source": [
    "def pgd(model, w0, step = None, lamb=0., n_iter=50, verbose=True):\n",
    "    \"\"\"\n",
    "    Proximal gradient descent\n",
    "    \"\"\"\n",
    "    w = w0\n",
    "    w_new = w0\n",
    "    n_samples, n_features = model.X.shape\n",
    "    # objective history\n",
    "    objectives = []\n",
    "    # Current objective\n",
    "    obj = model.objectivel1(w) \n",
    "    objectives.append(obj) \n",
    "    if verbose:\n",
    "        print(\"Lauching PGD solver...\")\n",
    "        print(' | '.join([name.center(8) for name in [\"it\", \"obj\"]])) \n",
    "    for k in range(n_iter + 1):\n",
    "        if step == None:\n",
    "            step = 1 / (model.smoothness_lip_const(model.X))\n",
    "    \n",
    "        w_new[:] = model.prox(w - step*model.grad(w), step*lamb)\n",
    "        w[:] = w_new\n",
    "\n",
    "        obj = model.objectivel1(w) \n",
    "        objectives.append(obj)\n",
    "        if k % 10 == 0 and verbose:\n",
    "            print(' | '.join([(\"%d\" % k).rjust(8), (\"%.10e\" % obj).rjust(8)]))\n",
    "    return w, np.array(objectives)"
   ]
  },
  {
   "cell_type": "code",
   "execution_count": 39,
   "metadata": {},
   "outputs": [
    {
     "name": "stdout",
     "output_type": "stream",
     "text": [
      "Lauching PGD solver...\n",
      "   it    |   obj   \n",
      "       0 | 5.7390227878e-01\n",
      "      10 | 5.5959339061e-01\n",
      "      20 | 5.5955314744e-01\n",
      "      30 | 5.5955273925e-01\n",
      "      40 | 5.5955273484e-01\n",
      "      50 | 5.5955273479e-01\n"
     ]
    }
   ],
   "source": [
    "w0 = np.zeros(n_features)\n",
    "w_pgd , obj_pgd = pgd(model_logregl1, w0, n_iter=50)"
   ]
  },
  {
   "cell_type": "code",
   "execution_count": 40,
   "metadata": {},
   "outputs": [
    {
     "data": {
      "image/png": "[encoded data removed]",
      "text/plain": [
       "<Figure size 432x360 with 1 Axes>"
      ]
     },
     "metadata": {
      "needs_background": "light"
     },
     "output_type": "display_data"
    }
   ],
   "source": [
    "plt.figure(figsize=(6, 5))\n",
    "plt.yscale(\"log\")\n",
    "plt.plot(obj_pgd , label=\"PGD2\", lw=2) \n",
    "#plt.plot(obj_agd - obj_opt, label=\"AGD\", lw=2) \n",
    "#plt.plot(obj_cd - obj_opt, label=\"CD\", lw=2) \n",
    "#plt.plot(obj_cgd - obj_opt, label=\"CGD\", lw=2) plt.xlabel(r\"$k$\", fontsize=16)\n",
    "plt.ylabel(r\"$F(x_k)$\", fontsize=16) \n",
    "plt.legend(loc='lower left')\n",
    "plt.title('Objectif')\n",
    "plt.xlim((0, n_iter))\n",
    "plt.tight_layout()\n",
    "#plt.savefig('gd_agd_cgd.pdf')"
   ]
  },
  {
   "cell_type": "markdown",
   "metadata": {},
   "source": [
    "Coder un arrêt prematuré quand $tol = 1e-02 > \\|w_{\\text{new}} - w\\|/\\|w\\|$"
   ]
  },
  {
   "cell_type": "code",
   "execution_count": 41,
   "metadata": {},
   "outputs": [],
   "source": [
    "def pgd2(model, w0, step = None, lamb=0., n_iter=50, verbose=True, tol=1e-02):\n",
    "    \"\"\"\n",
    "    Proximal gradient descent\n",
    "    \"\"\"\n",
    "    \n",
    "    w = w0\n",
    "    w_new = w0\n",
    "    n_samples, n_features = model.X.shape\n",
    "    # objective history\n",
    "    objectives = []\n",
    "    # Current objective\n",
    "    obj = model.objectivel1(w) \n",
    "    objectives.append(obj) \n",
    "    if verbose:\n",
    "        print(\"Lauching PGD solver...\")\n",
    "        print(' | '.join([name.center(8) for name in [\"it\", \"obj\"]])) \n",
    "    for k in range(n_iter + 1):\n",
    "        if step == None:\n",
    "            step = 1 / (10*model.smoothness_lip_const(model.X))\n",
    "    \n",
    "        w_new[:] = model.prox(w - step*model.grad(w), step*lamb)\n",
    "        w[:] = w_new\n",
    "        \n",
    "        wu = w - model.prox(w - step*model.grad(w), step*lamb)\n",
    "        \n",
    "        obj = model.objectivel1(w) \n",
    "        objectives.append(obj)\n",
    "        \n",
    "        stop = norm(wu) / norm(model.prox(w - step*model.grad(w), step*lamb))\n",
    "        \n",
    "        if k % 10 == 0 and verbose:\n",
    "            print(' | '.join([(\"%d\" % k).rjust(8), (\"%.10e\" % obj).rjust(8)]))\n",
    "        \n",
    "        if tol > stop:\n",
    "            break\n",
    "        \n",
    "    return w, np.array(objectives)"
   ]
  },
  {
   "cell_type": "code",
   "execution_count": 42,
   "metadata": {},
   "outputs": [],
   "source": [
    "lamb=0\n",
    "model_logregl2 = Logregl1(X,y,lamb)"
   ]
  },
  {
   "cell_type": "code",
   "execution_count": 43,
   "metadata": {},
   "outputs": [
    {
     "name": "stdout",
     "output_type": "stream",
     "text": [
      "Lauching PGD solver...\n",
      "   it    |   obj   \n",
      "       0 | 6.6941264608e-01\n",
      "      10 | 5.8874452442e-01\n",
      "      20 | 5.7217472903e-01\n",
      "      30 | 5.6600841827e-01\n"
     ]
    }
   ],
   "source": [
    "w0 = np.zeros(n_features)\n",
    "w_pgd2 , obj_pgd2 = pgd2(model_logregl2, w0)"
   ]
  },
  {
   "cell_type": "code",
   "execution_count": 44,
   "metadata": {},
   "outputs": [
    {
     "data": {
      "image/png": "[encoded data removed]",
      "text/plain": [
       "<Figure size 432x360 with 1 Axes>"
      ]
     },
     "metadata": {
      "needs_background": "light"
     },
     "output_type": "display_data"
    }
   ],
   "source": [
    "plt.figure(figsize=(6, 5))\n",
    "plt.yscale(\"log\")\n",
    "plt.plot(obj_pgd2 , label=\"PGD\", lw=2) \n",
    "#plt.plot(obj_agd - obj_opt, label=\"AGD\", lw=2) \n",
    "#plt.plot(obj_cd - obj_opt, label=\"CD\", lw=2) \n",
    "#plt.plot(obj_cgd - obj_opt, label=\"CGD\", lw=2) plt.xlabel(r\"$k$\", fontsize=16)\n",
    "plt.ylabel(r\"$F(x_k)$\", fontsize=16) \n",
    "plt.legend(loc='lower left')\n",
    "plt.title('Objectif')\n",
    "n_iter=60\n",
    "plt.xlim((0, n_iter))\n",
    "plt.tight_layout()\n",
    "#plt.savefig('gd_agd_cgd.pdf')"
   ]
  },
  {
   "cell_type": "markdown",
   "metadata": {},
   "source": [
    "## Stochastique proximal gradient descente  (SPGD)"
   ]
  },
  {
   "cell_type": "markdown",
   "metadata": {},
   "source": [
    "- Coder un algorithme de descente de gradient stochastique proximal pour ce problème\n",
    "- Comparer ses performances au PGD classique"
   ]
  },
  {
   "cell_type": "code",
   "execution_count": 45,
   "metadata": {},
   "outputs": [],
   "source": [
    "def spgd(model, w0, step = 1., lamb=0., n_iter=50, verbose=True):\n",
    "    \"\"\"\n",
    "    Stochastic Proximal gradient descent\n",
    "    \"\"\"\n",
    "    w = w0\n",
    "    w_new = w0\n",
    "    n_samples, n_features = model.X.shape\n",
    "    # objective history\n",
    "    objectives = []\n",
    "    # Current objective\n",
    "    obj = model.objectivel1(w) \n",
    "    objectives.append(obj) \n",
    "    \n",
    "    ind = np.random.randint(0, n_samples, n_samples * n_iter)\n",
    "    \n",
    "    if verbose:\n",
    "        print(\"Lauching SPGD solver...\")\n",
    "        print(' | '.join([name.center(8) for name in [\"it\", \"obj\"]])) \n",
    "    for k in range(n_iter + 1):\n",
    "        i = ind[k]\n",
    "    \n",
    "        w_new[:] = model.prox(w - (step /(np.sqrt(k+1)))*model.grad_i(i,w), (step /(np.sqrt(k+1)))*lamb)\n",
    "        w[:] = w_new\n",
    "\n",
    "        obj = model.objectivel1(w) \n",
    "        objectives.append(obj)\n",
    "        if k % 10 == 0 and verbose:\n",
    "            print(' | '.join([(\"%d\" % k).rjust(8), (\"%.10e\" % obj).rjust(8)]))\n",
    "    return w, np.array(objectives)"
   ]
  },
  {
   "cell_type": "code",
   "execution_count": 46,
   "metadata": {},
   "outputs": [
    {
     "name": "stdout",
     "output_type": "stream",
     "text": [
      "Lauching SPGD solver...\n",
      "   it    |   obj   \n",
      "       0 | 6.9314718056e-01\n",
      "      10 | 6.8962202497e-01\n",
      "      20 | 6.8913466192e-01\n",
      "      30 | 6.8722800320e-01\n",
      "      40 | 6.8614515557e-01\n",
      "      50 | 6.8538803124e-01\n"
     ]
    }
   ],
   "source": [
    "w0 = np.zeros(n_features)\n",
    "w_spgd , obj_spgd = spgd(model_logregl1, w0, step=0.01, n_iter=50)"
   ]
  },
  {
   "cell_type": "code",
   "execution_count": 47,
   "metadata": {},
   "outputs": [
    {
     "data": {
      "image/png": "[encoded data removed]",
      "text/plain": [
       "<Figure size 432x360 with 1 Axes>"
      ]
     },
     "metadata": {
      "needs_background": "light"
     },
     "output_type": "display_data"
    }
   ],
   "source": [
    "plt.figure(figsize=(6, 5))\n",
    "plt.yscale(\"log\")\n",
    "plt.plot(obj_pgd , label=\"PDG\", lw=2) \n",
    "plt.plot(obj_spgd , label=\"SPGD\", lw=2) \n",
    "#plt.plot(obj_agd - obj_opt, label=\"AGD\", lw=2) \n",
    "#plt.plot(obj_cd - obj_opt, label=\"CD\", lw=2) \n",
    "#plt.plot(obj_cgd - obj_opt, label=\"CGD\", lw=2) plt.xlabel(r\"$k$\", fontsize=16)\n",
    "plt.ylabel(r\"$F(x_k)$\", fontsize=16) \n",
    "plt.legend(loc='lower left')\n",
    "plt.title('Objectif')\n",
    "n_iter = 50\n",
    "plt.xlim((0, n_iter))\n",
    "plt.tight_layout()\n",
    "#plt.savefig('gd_agd_cgd.pdf')"
   ]
  },
  {
   "cell_type": "markdown",
   "metadata": {},
   "source": [
    "## Alternating direction method of multipliers (ADMM)"
   ]
  },
  {
   "cell_type": "markdown",
   "metadata": {},
   "source": [
    "- Coder un algorithme ADMM pour ce problème\n",
    "- Comparer ses performances au PGD classique et au SPGD"
   ]
  },
  {
   "cell_type": "code",
   "execution_count": 48,
   "metadata": {},
   "outputs": [],
   "source": [
    "def Sthresh(x, gamma):\n",
    "    return np.sign(x)*np.maximum(0, np.absolute(x)-gamma/2.0)"
   ]
  },
  {
   "cell_type": "code",
   "execution_count": 49,
   "metadata": {},
   "outputs": [],
   "source": [
    "def admm(A, y, verbose=True):\n",
    "\n",
    "    m, n = A.shape\n",
    "    w, v = np.linalg.eig(A.T.dot(A))\n",
    "    n_iter = 50\n",
    "\n",
    "    \"Function to caluculate min 1/2(y - Ax) + l||x||\"\n",
    "    \"via alternating direction methods\"\n",
    "    xhat = np.zeros([n, 1])\n",
    "    zhat = np.zeros([n, 1])\n",
    "    u = np.zeros([n, 1])\n",
    "\n",
    "    \"Calculate regression co-efficient and stepsize\"\n",
    "    l = sqrt(2*log(n, 10))\n",
    "    rho = 1/(np.amax(np.absolute(w)))\n",
    "\n",
    "    \"Pre-compute to save some multiplications\"\n",
    "    AtA = A.T.dot(A)\n",
    "    Aty = A.T.dot(y)\n",
    "    Q = AtA + rho*np.identity(n)\n",
    "    Q = np.linalg.inv(Q)\n",
    "\n",
    "    \n",
    "    if verbose:\n",
    "        print(\"Lauching ADMM solver...\")\n",
    "        print(' | '.join([name.center(8) for name in [\"it\", \"obj\"]])) \n",
    "    for i in range(n_iter + 1):\n",
    "\n",
    "        \"x minimisation step via posterier OLS\"\n",
    "        xhat = Q.dot(Aty + rho*(zhat - u))\n",
    "\n",
    "        \"z minimisation via soft-thresholding\"\n",
    "        zhat = Sthresh(xhat + u, l/rho)\n",
    "\n",
    "        \"mulitplier update\"\n",
    "        u = u + xhat - zhat\n",
    "        \n",
    "        if i % 10 == 0 and verbose:\n",
    "            print(' | '.join([(\"%d\" % i).rjust(8), (\"%.10e\" % rho).rjust(8)]))\n",
    "    return np.array(zhat), rho, l"
   ]
  },
  {
   "cell_type": "code",
   "execution_count": 50,
   "metadata": {},
   "outputs": [
    {
     "name": "stdout",
     "output_type": "stream",
     "text": [
      "Lauching ADMM solver...\n",
      "   it    |   obj   \n",
      "       0 | 3.6904563564e-04\n",
      "      10 | 3.6904563564e-04\n",
      "      20 | 3.6904563564e-04\n",
      "      30 | 3.6904563564e-04\n",
      "      40 | 3.6904563564e-04\n",
      "      50 | 3.6904563564e-04\n"
     ]
    }
   ],
   "source": [
    "A = np.random.randn(n_samples, n_features)\n",
    "\n",
    "num_non_zeros = 19\n",
    "positions = np.random.randint(0, n_features, num_non_zeros)\n",
    "amplitudes = 100*np.random.randn(num_non_zeros, 1)\n",
    "w0 = np.zeros((n_features, 1))\n",
    "w0[positions] = amplitudes\n",
    "\n",
    "y = A.dot(w0) + np.random.randn(n_samples, 1)\n",
    "\n",
    "xhat, rho, l = admm(A, y)"
   ]
  },
  {
   "cell_type": "code",
   "execution_count": 51,
   "metadata": {},
   "outputs": [
    {
     "data": {
      "image/png": "[encoded data removed]",
      "text/plain": [
       "<Figure size 432x360 with 1 Axes>"
      ]
     },
     "metadata": {
      "needs_background": "light"
     },
     "output_type": "display_data"
    }
   ],
   "source": [
    "plt.figure(figsize=(6, 5))\n",
    "plt.yscale(\"log\")\n",
    "plt.plot(obj_pgd , label=\"PDG\", lw=2) \n",
    "plt.plot(obj_spgd , label=\"SPGD\", lw=2) \n",
    "plt.plot(xhat , label=\"ADMM\", lw=2) \n",
    "#plt.plot(obj_agd - obj_opt, label=\"AGD\", lw=2) \n",
    "#plt.plot(obj_cd - obj_opt, label=\"CD\", lw=2) \n",
    "#plt.plot(obj_cgd - obj_opt, label=\"CGD\", lw=2) plt.xlabel(r\"$k$\", fontsize=16)\n",
    "plt.ylabel(r\"$F(x_k)$\", fontsize=16) \n",
    "plt.legend(loc='lower left')\n",
    "plt.title('Objectif')\n",
    "n_iter = 50\n",
    "plt.xlim((0, n_iter))\n",
    "plt.tight_layout()\n",
    "#plt.savefig('gd_agd_cgd.pdf')"
   ]
  }
 ],
 "metadata": {
  "kernelspec": {
   "display_name": "Python 3",
   "language": "python",
   "name": "python3"
  },
  "language_info": {
   "codemirror_mode": {
    "name": "ipython",
    "version": 3
   },
   "file_extension": ".py",
   "mimetype": "text/x-python",
   "name": "python",
   "nbconvert_exporter": "python",
   "pygments_lexer": "ipython3",
   "version": "3.7.5"
  }
 },
 "nbformat": 4,
 "nbformat_minor": 1
}
